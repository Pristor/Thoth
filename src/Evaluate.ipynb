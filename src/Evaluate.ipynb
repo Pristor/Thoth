{
 "cells": [
  {
   "cell_type": "code",
   "execution_count": 1,
   "metadata": {},
   "outputs": [],
   "source": [
    "import string\n",
    "import unicodedata\n",
    "import editdistance\n",
    "import numpy as np"
   ]
  },
  {
   "cell_type": "code",
   "execution_count": 2,
   "metadata": {},
   "outputs": [],
   "source": [
    "def calculate_error(predicts, ground_truth):\n",
    "    \"\"\"calculate Char Error, Word Error and Sequence Error\"\"\"\n",
    "    cer, wer, ser = [], [], []\n",
    "    \n",
    "    for (pred, gt) in zip(predicts, ground_truth):\n",
    "        pred , gt = pred.lower(), gt.lower()\n",
    "        \n",
    "        pred_cer, gt_cer = list(pred), list(gt)\n",
    "        dist = editdistance.eval(pred_cer, gt_cer)\n",
    "        cer.append(dist / (max(len(pred_cer), len(gt_cer))))\n",
    "        \n",
    "        pred_wer, gt_wer = pred.split(), gt.split()\n",
    "        dist = editdistance.eval(pred_wer, gt_wer)\n",
    "        wer.append(dist / (max(len(pred_wer), len(gt_wer))))\n",
    "        \n",
    "        pred_ser, gt_ser = [pred], [gt]\n",
    "        dist = editdistance.eval(pred_ser, gt_ser)\n",
    "        ser.append(dist/ (max(len(pred_ser), len(gt_ser))))\n",
    "    \n",
    "    error = [cer, wer, ser]\n",
    "    error = np.mean(error, axis=1)\n",
    "    \n",
    "    return error\n",
    "        \n",
    "        "
   ]
  }
 ],
 "metadata": {
  "kernelspec": {
   "display_name": "Python 3",
   "language": "python",
   "name": "python3"
  },
  "language_info": {
   "codemirror_mode": {
    "name": "ipython",
    "version": 3
   },
   "file_extension": ".py",
   "mimetype": "text/x-python",
   "name": "python",
   "nbconvert_exporter": "python",
   "pygments_lexer": "ipython3",
   "version": "3.6.9"
  }
 },
 "nbformat": 4,
 "nbformat_minor": 4
}
